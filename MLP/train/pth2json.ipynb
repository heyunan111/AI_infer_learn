{
 "cells": [
  {
   "cell_type": "code",
   "execution_count": 1,
   "id": "97973db0",
   "metadata": {},
   "outputs": [
    {
     "name": "stdout",
     "output_type": "stream",
     "text": [
      "Converted mlp_mnist.pth → mlp_mnist.json\n"
     ]
    }
   ],
   "source": [
    "import torch\n",
    "import json\n",
    "\n",
    "def pth_to_json(pth_file, json_file):\n",
    "    # 加载 state_dict\n",
    "    state_dict = torch.load(pth_file, map_location=\"cpu\")\n",
    "    \n",
    "    # 转成 Python 字典（list，而不是 tensor）\n",
    "    weights = {}\n",
    "    for k, v in state_dict.items():\n",
    "        weights[k] = v.tolist()  # tensor → python list\n",
    "    \n",
    "    # 保存到 JSON\n",
    "    with open(json_file, \"w\") as f:\n",
    "        json.dump(weights, f)\n",
    "    \n",
    "    print(f\"Converted {pth_file} → {json_file}\")\n",
    "\n",
    "# 示例\n",
    "pth_to_json(\"mlp_mnist.pth\", \"mlp_mnist.json\")\n"
   ]
  }
 ],
 "metadata": {
  "kernelspec": {
   "display_name": "torch129",
   "language": "python",
   "name": "python3"
  },
  "language_info": {
   "codemirror_mode": {
    "name": "ipython",
    "version": 3
   },
   "file_extension": ".py",
   "mimetype": "text/x-python",
   "name": "python",
   "nbconvert_exporter": "python",
   "pygments_lexer": "ipython3",
   "version": "3.11.13"
  }
 },
 "nbformat": 4,
 "nbformat_minor": 5
}
