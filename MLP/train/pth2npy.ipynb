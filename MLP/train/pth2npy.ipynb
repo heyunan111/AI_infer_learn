{
 "cells": [
  {
   "cell_type": "code",
   "execution_count": 1,
   "id": "26b33fac",
   "metadata": {},
   "outputs": [],
   "source": [
    "import torch\n",
    "import numpy as np\n",
    "import os\n",
    "\n",
    "def pth_to_npy(pth_file, output_dir=\"weights_npy\"):\n",
    "    state_dict = torch.load(pth_file, map_location=\"cpu\")\n",
    "    os.makedirs(output_dir, exist_ok=True)\n",
    "\n",
    "    for name, param in state_dict.items():\n",
    "        arr = param.cpu().numpy()\n",
    "        np.save(os.path.join(output_dir, name.replace(\".\", \"_\") + \".npy\"), arr)\n",
    "\n",
    "pth_to_npy(\"mlp_mnist.pth\")\n"
   ]
  }
 ],
 "metadata": {
  "kernelspec": {
   "display_name": "torch129",
   "language": "python",
   "name": "python3"
  },
  "language_info": {
   "codemirror_mode": {
    "name": "ipython",
    "version": 3
   },
   "file_extension": ".py",
   "mimetype": "text/x-python",
   "name": "python",
   "nbconvert_exporter": "python",
   "pygments_lexer": "ipython3",
   "version": "3.11.13"
  }
 },
 "nbformat": 4,
 "nbformat_minor": 5
}
