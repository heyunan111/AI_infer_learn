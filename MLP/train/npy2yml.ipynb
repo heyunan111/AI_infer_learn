{
 "cells": [
  {
   "cell_type": "code",
   "execution_count": null,
   "id": "98391f04",
   "metadata": {},
   "outputs": [
    {
     "name": "stdout",
     "output_type": "stream",
     "text": [
      "Converted fc1_bias.npy → fc1_bias.yml\n",
      "Converted fc1_weight.npy → fc1_weight.yml\n",
      "Converted fc2_bias.npy → fc2_bias.yml\n",
      "Converted fc2_weight.npy → fc2_weight.yml\n",
      "Converted fc3_bias.npy → fc3_bias.yml\n",
      "Converted fc3_weight.npy → fc3_weight.yml\n"
     ]
    }
   ],
   "source": [
    "import os\n",
    "import cv2\n",
    "import numpy as np\n",
    "\n",
    "def convert_npy_to_yml(input_folder: str, output_folder: str):\n",
    "    \"\"\"\n",
    "    批量将 input_folder 下的 .npy 文件转换为 .yml 并保存到 output_folder。\n",
    "    \n",
    "    参数：\n",
    "        input_folder: 存放 .npy 文件的文件夹路径\n",
    "        output_folder: 转换后的 .yml 文件保存的文件夹路径\n",
    "    \"\"\"\n",
    "    if not os.path.exists(output_folder):\n",
    "        os.makedirs(output_folder)\n",
    "\n",
    "    for file_name in os.listdir(input_folder):\n",
    "        if file_name.endswith(\".npy\"):\n",
    "            input_path = os.path.join(input_folder, file_name)\n",
    "            output_name = os.path.splitext(file_name)[0] + \".yml\"\n",
    "            output_path = os.path.join(output_folder, output_name)\n",
    "\n",
    "            # 加载 numpy 文件\n",
    "            data = np.load(input_path)\n",
    "\n",
    "            # 使用 OpenCV 保存为 yml\n",
    "            fs = cv2.FileStorage(output_path, cv2.FileStorage_WRITE)\n",
    "            fs.write(\"data\", data)\n",
    "            fs.release()\n",
    "\n",
    "            print(f\"Converted {file_name} → {output_name}\")\n",
    "\n",
    "convert_npy_to_yml(\"weights_npy\", \"weights_yml\")\n",
    "\n"
   ]
  }
 ],
 "metadata": {
  "kernelspec": {
   "display_name": "torch129",
   "language": "python",
   "name": "python3"
  },
  "language_info": {
   "codemirror_mode": {
    "name": "ipython",
    "version": 3
   },
   "file_extension": ".py",
   "mimetype": "text/x-python",
   "name": "python",
   "nbconvert_exporter": "python",
   "pygments_lexer": "ipython3",
   "version": "3.11.13"
  }
 },
 "nbformat": 4,
 "nbformat_minor": 5
}
